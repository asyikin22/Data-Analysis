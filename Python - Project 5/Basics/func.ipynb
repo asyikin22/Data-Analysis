{
 "cells": [
  {
   "cell_type": "markdown",
   "metadata": {},
   "source": [
    "**Function**\n",
    "- A block of code that will only run when you call it\n",
    "\n",
    "**Basic syntax**\n",
    "- Function and body\n",
    "- function call \n",
    "- output"
   ]
  },
  {
   "cell_type": "code",
   "execution_count": 3,
   "metadata": {},
   "outputs": [
    {
     "name": "stdout",
     "output_type": "stream",
     "text": [
      "I am Asyikin\n"
     ]
    }
   ],
   "source": [
    "def function():                     # define a function\n",
    "    print('I am Asyikin')           # body\n",
    "\n",
    "function()                          # function call ---> it returns an output"
   ]
  },
  {
   "cell_type": "code",
   "execution_count": 5,
   "metadata": {},
   "outputs": [
    {
     "name": "stdout",
     "output_type": "stream",
     "text": [
      "Yeay, this is my first function\n"
     ]
    }
   ],
   "source": [
    "def function_pertama():\n",
    "    print('Yeay, this is my first function')\n",
    "\n",
    "function_pertama()"
   ]
  },
  {
   "cell_type": "markdown",
   "metadata": {},
   "source": [
    "**Single Arguments**"
   ]
  },
  {
   "cell_type": "code",
   "execution_count": 7,
   "metadata": {},
   "outputs": [
    {
     "name": "stdout",
     "output_type": "stream",
     "text": [
      "4\n",
      "101\n",
      "77\n",
      "2\n"
     ]
    }
   ],
   "source": [
    "def tambah_dua(nombor):\n",
    "    print(nombor + 2)\n",
    "\n",
    "tambah_dua(2)\n",
    "tambah_dua(99)\n",
    "tambah_dua(75)\n",
    "tambah_dua(0)"
   ]
  },
  {
   "cell_type": "markdown",
   "metadata": {},
   "source": [
    "**Multiple Arguments**\n",
    "- you must specify both arguments when calling out the function\n",
    "\n",
    "**Arbitrary Argument**\n",
    "- it's when we dont know how many arguments will be passed to the function\n"
   ]
  },
  {
   "cell_type": "code",
   "execution_count": 8,
   "metadata": {},
   "outputs": [
    {
     "name": "stdout",
     "output_type": "stream",
     "text": [
      "8\n",
      "100\n",
      "150\n",
      "5\n"
     ]
    }
   ],
   "source": [
    "def tambah_dua_nombor(a, b):\n",
    "    print(a + b)\n",
    "\n",
    "tambah_dua_nombor(3, 5)\n",
    "tambah_dua_nombor(99, 1)\n",
    "tambah_dua_nombor(75, 75)\n",
    "tambah_dua_nombor(0, 5)"
   ]
  },
  {
   "cell_type": "code",
   "execution_count": 12,
   "metadata": {},
   "outputs": [
    {
     "name": "stdout",
     "output_type": "stream",
     "text": [
      "The * that comes before names allows function to accept any number of names\n",
      "hello, Asyikin!\n",
      "hello, Liam!\n",
      "hello, Austin!\n"
     ]
    }
   ],
   "source": [
    "#artbitrary argument\n",
    "print(\"The * that comes before names allows function to accept any number of names\")\n",
    "def greet(*names):\n",
    "    for name in names:\n",
    "        print(f'hello, {name}!')\n",
    "\n",
    "greet(\"Asyikin\", \"Liam\", \"Austin\")"
   ]
  },
  {
   "cell_type": "code",
   "execution_count": 14,
   "metadata": {},
   "outputs": [
    {
     "name": "stdout",
     "output_type": "stream",
     "text": [
      "10\n"
     ]
    }
   ],
   "source": [
    "#arbitrary 2\n",
    "def nom_arg(*nombor):\n",
    "    print(nombor[1] * nombor[4])\n",
    "\n",
    "nom_arg(1, 2, 3, 4, 5)"
   ]
  },
  {
   "cell_type": "markdown",
   "metadata": {},
   "source": [
    "**Arbitrary Keyword arguments**\n",
    "- ** collects all keyword arguments passe to the function into a dictionary\n",
    "- this allows you to pass any number of keyword arguments where each argument is passed as key-value pair"
   ]
  },
  {
   "cell_type": "code",
   "execution_count": 15,
   "metadata": {},
   "outputs": [
    {
     "name": "stdout",
     "output_type": "stream",
     "text": [
      "name: Asyikin\n",
      "age: 20\n",
      "location: Planet Earth\n"
     ]
    }
   ],
   "source": [
    "def display_info(**info):\n",
    "    for key, value in info.items():\n",
    "        print(f'{key}: {value}')\n",
    "\n",
    "display_info(name=\"Asyikin\", age=20, location='Planet Earth')"
   ]
  },
  {
   "cell_type": "code",
   "execution_count": null,
   "metadata": {},
   "outputs": [],
   "source": []
  },
  {
   "cell_type": "code",
   "execution_count": null,
   "metadata": {},
   "outputs": [],
   "source": []
  },
  {
   "cell_type": "code",
   "execution_count": null,
   "metadata": {},
   "outputs": [],
   "source": []
  }
 ],
 "metadata": {
  "kernelspec": {
   "display_name": "base",
   "language": "python",
   "name": "python3"
  },
  "language_info": {
   "codemirror_mode": {
    "name": "ipython",
    "version": 3
   },
   "file_extension": ".py",
   "mimetype": "text/x-python",
   "name": "python",
   "nbconvert_exporter": "python",
   "pygments_lexer": "ipython3",
   "version": "3.12.4"
  }
 },
 "nbformat": 4,
 "nbformat_minor": 2
}
