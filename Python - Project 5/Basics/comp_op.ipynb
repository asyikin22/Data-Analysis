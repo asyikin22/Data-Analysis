{
 "cells": [
  {
   "cell_type": "markdown",
   "metadata": {},
   "source": [
    "**Comparison operators**\n",
    "- it's used to compare 2 vaues or epxressions and return a boolean value (True or False)\n",
    "- List of operator:\n",
    "    | Operator  | Name  |\n",
    "    |-----------|-------|\n",
    "    | ==        | Equal |\n",
    "    | !=        | Not Equal |\n",
    "    | >         | Greater than |\n",
    "    | <         | Less than |\n",
    "    | >=        | Greter than or equal to |\n",
    "    | <=        | Less than or equal to |\n",
    "    "
   ]
  },
  {
   "cell_type": "code",
   "execution_count": 7,
   "metadata": {},
   "outputs": [
    {
     "name": "stdout",
     "output_type": "stream",
     "text": [
      "True\n",
      "False\n",
      "True\n",
      "True\n",
      "False\n"
     ]
    }
   ],
   "source": [
    "a = 22 == 22\n",
    "b = 30 == 22\n",
    "print(a)\n",
    "print(b)\n",
    "\n",
    "c = a != b\n",
    "print(c)\n",
    "\n",
    "#less than\n",
    "less = 10 <= 30\n",
    "less2 = 10 < 5\n",
    "print(less)\n",
    "print(less2)"
   ]
  },
  {
   "cell_type": "markdown",
   "metadata": {},
   "source": [
    "**Logical Operators**\n",
    "- And ---> returns True if both statements are true\n",
    "- Or ---> returns true if one of the statement is true\n",
    "- Not ---> reverse the result, returns false if the result is true"
   ]
  },
  {
   "cell_type": "code",
   "execution_count": 15,
   "metadata": {},
   "outputs": [
    {
     "name": "stdout",
     "output_type": "stream",
     "text": [
      "True\n",
      "False\n",
      "True\n"
     ]
    }
   ],
   "source": [
    "compare = (3 > 2) and (5 > 4)\n",
    "compareOr = (1 > 2) or (0 > 4)\n",
    "x = 'ayam'\n",
    "y = 'lembu'\n",
    "\n",
    "print(compare)\n",
    "print(compareOr)\n",
    "print(not(x >y))"
   ]
  },
  {
   "cell_type": "markdown",
   "metadata": {},
   "source": [
    "**Membership Operators**\n",
    "- in ---> Returns True if a sequence with the specified value is present in the object\n",
    "- not in ---> Returns True if a sequence with the specified value is is not present in the object"
   ]
  },
  {
   "cell_type": "code",
   "execution_count": 16,
   "metadata": {},
   "outputs": [
    {
     "data": {
      "text/plain": [
       "True"
      ]
     },
     "execution_count": 16,
     "metadata": {},
     "output_type": "execute_result"
    }
   ],
   "source": [
    "kegemaran = 'I love nasi ayam'\n",
    "'ayam' in kegemaran"
   ]
  },
  {
   "cell_type": "code",
   "execution_count": 19,
   "metadata": {},
   "outputs": [
    {
     "name": "stdout",
     "output_type": "stream",
     "text": [
      "True\n",
      "False\n",
      "True\n"
     ]
    }
   ],
   "source": [
    "digits = [1, 2, 3, 4, 5]\n",
    "print(5 in digits)\n",
    "print(8 in digits)\n",
    "print(10 not in digits)"
   ]
  },
  {
   "cell_type": "code",
   "execution_count": null,
   "metadata": {},
   "outputs": [],
   "source": []
  },
  {
   "cell_type": "code",
   "execution_count": null,
   "metadata": {},
   "outputs": [],
   "source": []
  },
  {
   "cell_type": "code",
   "execution_count": null,
   "metadata": {},
   "outputs": [],
   "source": []
  },
  {
   "cell_type": "code",
   "execution_count": null,
   "metadata": {},
   "outputs": [],
   "source": []
  }
 ],
 "metadata": {
  "kernelspec": {
   "display_name": "base",
   "language": "python",
   "name": "python3"
  },
  "language_info": {
   "codemirror_mode": {
    "name": "ipython",
    "version": 3
   },
   "file_extension": ".py",
   "mimetype": "text/x-python",
   "name": "python",
   "nbconvert_exporter": "python",
   "pygments_lexer": "ipython3",
   "version": "3.12.4"
  }
 },
 "nbformat": 4,
 "nbformat_minor": 2
}
