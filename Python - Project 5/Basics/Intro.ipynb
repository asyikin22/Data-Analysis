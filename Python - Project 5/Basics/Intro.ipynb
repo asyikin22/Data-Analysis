{
 "cells": [
  {
   "cell_type": "markdown",
   "id": "efda164d-8870-45a0-9ab1-dfd6345b2e07",
   "metadata": {},
   "source": [
    "print('Hello World')"
   ]
  },
  {
   "cell_type": "code",
   "execution_count": 13,
   "id": "7bb486dd-f572-4118-b599-a36125f047e5",
   "metadata": {},
   "outputs": [
    {
     "name": "stdout",
     "output_type": "stream",
     "text": [
      "Hello I am Asyikin\n"
     ]
    }
   ],
   "source": [
    "print('Hello I am Asyikin')"
   ]
  },
  {
   "cell_type": "markdown",
   "id": "69718e6a-878a-4110-93a0-19078b935694",
   "metadata": {},
   "source": [
    "# My first notebook 😊"
   ]
  },
  {
   "cell_type": "markdown",
   "id": "28089209-0ced-4e14-a0c6-71555de0759a",
   "metadata": {},
   "source": [
    "# Variables \n",
    "- it's a container for storing data values.\n",
    "- Take a string or number and assign it to a variable and the variable will carry and contain whatever you put into it."
   ]
  },
  {
   "cell_type": "code",
   "execution_count": 21,
   "id": "2b9e3915-123d-4fde-958c-36519b18e194",
   "metadata": {},
   "outputs": [
    {
     "name": "stdout",
     "output_type": "stream",
     "text": [
      "22\n"
     ]
    }
   ],
   "source": [
    "x = 22\n",
    "print(x)"
   ]
  },
  {
   "cell_type": "code",
   "execution_count": 23,
   "id": "1e4edaa2-b248-4775-a71c-9e5f404ec25e",
   "metadata": {},
   "outputs": [
    {
     "data": {
      "text/plain": [
       "int"
      ]
     },
     "execution_count": 23,
     "metadata": {},
     "output_type": "execute_result"
    }
   ],
   "source": [
    "type(x)"
   ]
  },
  {
   "cell_type": "code",
   "execution_count": 27,
   "id": "a274e9cd-cc0c-4c83-a42f-489fcc79e909",
   "metadata": {},
   "outputs": [
    {
     "name": "stdout",
     "output_type": "stream",
     "text": [
      "Nasi Lemak Ayam Goreng\n"
     ]
    }
   ],
   "source": [
    "y = \"Nasi Lemak Ayam Goreng\"\n",
    "print(y)"
   ]
  },
  {
   "cell_type": "code",
   "execution_count": 29,
   "id": "35f98d7d-efee-4bc2-a2f6-1af635286bf6",
   "metadata": {},
   "outputs": [
    {
     "data": {
      "text/plain": [
       "str"
      ]
     },
     "execution_count": 29,
     "metadata": {},
     "output_type": "execute_result"
    }
   ],
   "source": [
    "type(y)"
   ]
  },
  {
   "cell_type": "markdown",
   "id": "fd5de252-0abc-4cfe-8d5b-117fa5b90056",
   "metadata": {},
   "source": [
    "**We can overwrite previous variable**"
   ]
  },
  {
   "cell_type": "code",
   "execution_count": 43,
   "id": "25989710-4a6a-4e26-ac17-071256db31b9",
   "metadata": {},
   "outputs": [
    {
     "name": "stdout",
     "output_type": "stream",
     "text": [
      "Mihun Goreng\n",
      "Nasi Lemak Ayam Goreng\n"
     ]
    }
   ],
   "source": [
    "Y = 'Mihun Goreng'\n",
    "y = \"Nasi Lemak Ayam Goreng\"\n",
    "print(Y)\n",
    "print(y)"
   ]
  },
  {
   "cell_type": "markdown",
   "id": "ab14d50a-73b1-4a9f-824e-1b9700c1fe9a",
   "metadata": {},
   "source": [
    "**We can assign multiple values to multiple variable**"
   ]
  },
  {
   "cell_type": "code",
   "execution_count": 46,
   "id": "18bc651f-2bbc-4a92-b893-15262635e8d1",
   "metadata": {},
   "outputs": [
    {
     "name": "stdout",
     "output_type": "stream",
     "text": [
      "red\n",
      "blue\n",
      "yellow\n"
     ]
    }
   ],
   "source": [
    "a,b,c = 'red', 'blue', 'yellow'\n",
    "print(a)\n",
    "print(b)\n",
    "print(c)"
   ]
  },
  {
   "cell_type": "markdown",
   "id": "6fc752ac-2d55-466f-b779-997b74c06823",
   "metadata": {},
   "source": [
    "**We can also assign MULTIPLE variable to ONE value**"
   ]
  },
  {
   "cell_type": "code",
   "execution_count": 49,
   "id": "0ea3d78b-cb82-4e08-a6f2-434879426a65",
   "metadata": {},
   "outputs": [
    {
     "name": "stdout",
     "output_type": "stream",
     "text": [
      "Jupyter\n",
      "Jupyter\n",
      "Jupyter\n"
     ]
    }
   ],
   "source": [
    "d = e = f = \"Jupyter\"\n",
    "print(d)\n",
    "print(e)\n",
    "print(f)"
   ]
  },
  {
   "cell_type": "markdown",
   "id": "ab94d786-13fd-4899-bbb5-7d6b730e0395",
   "metadata": {},
   "source": [
    "**Lists**"
   ]
  },
  {
   "cell_type": "code",
   "execution_count": 52,
   "id": "120a8b2c-5787-4930-980f-3f90a217385e",
   "metadata": {},
   "outputs": [
    {
     "name": "stdout",
     "output_type": "stream",
     "text": [
      "Malaysia\n",
      "Thailand\n",
      "Indonesia\n"
     ]
    }
   ],
   "source": [
    "countries = ['Malaysia', 'Thailand', 'Indonesia']\n",
    "\n",
    "a, b, c = countries\n",
    "print(a)\n",
    "print(b)\n",
    "print(c)"
   ]
  },
  {
   "cell_type": "markdown",
   "id": "6ae64936-e5f5-4f6b-b320-0b43d427f50e",
   "metadata": {},
   "source": [
    "**Operators with Variables**\n",
    "- we CANNOT concatenate integers and string together"
   ]
  },
  {
   "cell_type": "code",
   "execution_count": 56,
   "id": "50d448b9-270c-4cbf-98e5-c5ba2054d4a3",
   "metadata": {},
   "outputs": [
    {
     "name": "stdout",
     "output_type": "stream",
     "text": [
      "Nasi ayam is my favorite.\n"
     ]
    }
   ],
   "source": [
    "k = \"Nasi ayam is my favorite\" + \".\"\n",
    "print(k)"
   ]
  },
  {
   "cell_type": "code",
   "execution_count": 59,
   "id": "7b5b7d91-8f51-4185-87e8-fcc3089e5777",
   "metadata": {},
   "outputs": [
    {
     "name": "stdout",
     "output_type": "stream",
     "text": [
      "100\n"
     ]
    }
   ],
   "source": [
    "x = 99 + 1\n",
    "print(x)"
   ]
  },
  {
   "cell_type": "code",
   "execution_count": 65,
   "id": "1b3d9602-8a50-4dfe-9328-5053e18f356f",
   "metadata": {},
   "outputs": [
    {
     "name": "stdout",
     "output_type": "stream",
     "text": [
      "The mitochondria is the powerhouse of the cell.\n"
     ]
    }
   ],
   "source": [
    "x = \"The mitochondria \"\n",
    "y = \"is the powerhouse \"\n",
    "z = \"of the cell.\"\n",
    "print(x+y+z)"
   ]
  },
  {
   "cell_type": "code",
   "execution_count": null,
   "id": "693dbd4f-dcf3-45cc-9638-ff97bc7afc23",
   "metadata": {},
   "outputs": [],
   "source": []
  },
  {
   "cell_type": "code",
   "execution_count": null,
   "id": "8618bdeb-c537-4710-981a-30f4f8ab211e",
   "metadata": {},
   "outputs": [],
   "source": []
  },
  {
   "cell_type": "code",
   "execution_count": null,
   "id": "1243403d-d7cd-43ab-957b-1d55128af5a0",
   "metadata": {},
   "outputs": [],
   "source": []
  },
  {
   "cell_type": "code",
   "execution_count": null,
   "id": "e3c850ad-89e3-49c5-84d5-afb6f1b707c4",
   "metadata": {},
   "outputs": [],
   "source": []
  },
  {
   "cell_type": "code",
   "execution_count": null,
   "id": "ca4b7dea-4520-4836-8483-4c2e0f63d071",
   "metadata": {},
   "outputs": [],
   "source": []
  },
  {
   "cell_type": "code",
   "execution_count": null,
   "id": "462a0724-f37d-4b48-ad3e-a46d0e1b6360",
   "metadata": {},
   "outputs": [],
   "source": []
  },
  {
   "cell_type": "code",
   "execution_count": null,
   "id": "ec3d1785-a965-4d97-a8e5-1be9bdf937fd",
   "metadata": {},
   "outputs": [],
   "source": []
  },
  {
   "cell_type": "code",
   "execution_count": null,
   "id": "0061f500-ebfd-4ecb-beff-5f28607eb7cf",
   "metadata": {},
   "outputs": [],
   "source": []
  },
  {
   "cell_type": "code",
   "execution_count": null,
   "id": "25149f8c-1c40-4a85-ac3d-8bfa0f5d83ae",
   "metadata": {},
   "outputs": [],
   "source": []
  }
 ],
 "metadata": {
  "kernelspec": {
   "display_name": "Python 3 (ipykernel)",
   "language": "python",
   "name": "python3"
  },
  "language_info": {
   "codemirror_mode": {
    "name": "ipython",
    "version": 3
   },
   "file_extension": ".py",
   "mimetype": "text/x-python",
   "name": "python",
   "nbconvert_exporter": "python",
   "pygments_lexer": "ipython3",
   "version": "3.12.4"
  }
 },
 "nbformat": 4,
 "nbformat_minor": 5
}
